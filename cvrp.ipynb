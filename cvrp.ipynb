{
 "cells": [
  {
   "cell_type": "markdown",
   "metadata": {},
   "source": [
    "Capacitated Vehecle Routing Problem"
   ]
  },
  {
   "cell_type": "code",
   "execution_count": 145,
   "metadata": {},
   "outputs": [
    {
     "data": {
      "image/png": "[encoded data removed]",
      "text/plain": [
       "<Figure size 432x288 with 1 Axes>"
      ]
     },
     "metadata": {
      "needs_background": "light"
     },
     "output_type": "display_data"
    }
   ],
   "source": [
    "import matplotlib.pyplot as plt\n",
    "import numpy as np\n",
    "\n",
    "locations = [(456, 320), # location 0 - the depot\n",
    "    (228, 0),    # location 1\n",
    "    (912, 0),    # location 2\n",
    "    (0, 80),     # location 3\n",
    "    (114, 80),   # location 4\n",
    "    (570, 160),  # location 5\n",
    "    (798, 160),  # location 6\n",
    "    (342, 240),  # location 7\n",
    "    (684, 240),  # location 8\n",
    "    (570, 400),  # location 9\n",
    "    (912, 400),  # location 10\n",
    "    (114, 480),  # location 11\n",
    "    (228, 480),  # location 12\n",
    "    (342, 560),  # location 13\n",
    "    (684, 560),  # location 14\n",
    "    (0, 640),    # location 15\n",
    "    (798, 640)]  # location 16\n",
    "\n",
    "orders = [0,    # 0 for depot\n",
    "1,\n",
    "1, \n",
    "2, \n",
    "4, \n",
    "1, #5\n",
    "0, \n",
    "2, \n",
    "8, \n",
    "1, \n",
    "0, #10\n",
    "0, \n",
    "2, \n",
    "4, \n",
    "4, \n",
    "8, #15\n",
    "8]\n",
    "\n",
    "x = list(map(lambda x: x[0], locations))\n",
    "y = list(map(lambda x: x[1], locations))\n",
    "\n",
    "plt.plot(x, y, 'o')\n",
    "plt.gca().invert_yaxis()\n",
    "\n",
    "for i in range (len(orders)):\n",
    "    plt.text(locations[i][0]+20, locations[i][1]+20, orders[i], c='dodgerblue')\n",
    "\n",
    "plt.show()"
   ]
  },
  {
   "cell_type": "code",
   "execution_count": 146,
   "metadata": {},
   "outputs": [],
   "source": [
    "def create_data_model():\n",
    "    \"\"\"Stores the data for the problem.\"\"\"\n",
    "    data = {}\n",
    "    # geek -> 임의의 위치에서 시작하게 하려면 depot->node로의 거리를 0으로 두면 된다.\n",
    "    # but node->depot은 거리 적용해줘야 함!!\n",
    "    \n",
    "    temp_locations = []\n",
    "    temp_orders = []\n",
    "\n",
    "    for i in range (len(orders)):\n",
    "        if (i!=0 and orders[i] == 0):\n",
    "            continue\n",
    "        else:\n",
    "            temp_locations.append(locations[i])\n",
    "            temp_orders.append(orders[i])\n",
    "\n",
    "    data['distance_matrix'] = [[abs(temp_locations[i][0]-temp_locations[j][0])+abs(temp_locations[i][1]-temp_locations[j][1]) for j in range(len(temp_locations))] for i in range(len(temp_locations))]\n",
    "    data['distance_matrix'][0] = [0 for i in range(len(temp_locations))]\n",
    "    data['orders'] = temp_orders\n",
    "    \n",
    "    data['num_vehicles'] = 4\n",
    "    data['vehicle_capacities'] = [100 for i in range(data['num_vehicles'])]\n",
    "    data['depot'] = 0\n",
    "    return data"
   ]
  },
  {
   "cell_type": "code",
   "execution_count": 147,
   "metadata": {},
   "outputs": [],
   "source": [
    "def print_solution(data, manager, routing, solution):\n",
    "    \"\"\"Prints solution on console.\"\"\"\n",
    "    print(f'Objective: {solution.ObjectiveValue()}')\n",
    "    max_route_distance = 0\n",
    "    for vehicle_id in range(data['num_vehicles']):\n",
    "        index = routing.Start(vehicle_id)\n",
    "        plan_output = 'Route for vehicle {}:\\n'.format(vehicle_id)\n",
    "        route_distance = 0\n",
    "        route_order = 0\n",
    "        index = solution.Value(routing.NextVar(index))\n",
    "\n",
    "        root_arr_x = []\n",
    "        root_arr_y = []\n",
    "\n",
    "        while not routing.IsEnd(index):\n",
    "            root_arr_x.append(locations[manager.IndexToNode(index)][0])\n",
    "            root_arr_y.append(locations[manager.IndexToNode(index)][1])\n",
    "            plt.text(locations[manager.IndexToNode(index)][0], locations[manager.IndexToNode(index)][1], index)\n",
    "\n",
    "            node_index = manager.IndexToNode(index)\n",
    "            route_order += data['orders'][node_index]\n",
    "            plt.text(locations[manager.IndexToNode(index)][0]+20, locations[manager.IndexToNode(index)][1]+20, data['orders'][node_index], c=\"dodgerblue\")\n",
    "\n",
    "            plan_output += ' {0} load ({1}) -> '.format(node_index, route_order)\n",
    "            previous_index = index\n",
    "            index = solution.Value(routing.NextVar(index))\n",
    "            route_distance += routing.GetArcCostForVehicle(\n",
    "                previous_index, index, vehicle_id)\n",
    "            # print(route_distance)\n",
    "\n",
    "        root_arr_x.append(locations[manager.IndexToNode(index)][0])\n",
    "        root_arr_y.append(locations[manager.IndexToNode(index)][1])\n",
    "        plt.text(locations[manager.IndexToNode(index)][0], locations[manager.IndexToNode(index)][1], index)\n",
    "        plan_output += '{}\\n'.format(manager.IndexToNode(index))\n",
    "        plan_output += 'Distance of the route: {}m\\n'.format(route_distance)\n",
    "        plt.plot(root_arr_x, root_arr_y)\n",
    "        \n",
    "        print(plan_output)\n",
    "        max_route_distance = max(route_distance, max_route_distance)\n",
    "    \n",
    "    plt.gca().invert_yaxis()\n",
    "    plt.show()\n",
    "    print('Maximum of the route distances: {}m'.format(max_route_distance))"
   ]
  },
  {
   "cell_type": "code",
   "execution_count": 148,
   "metadata": {},
   "outputs": [
    {
     "name": "stdout",
     "output_type": "stream",
     "text": [
      "Objective: 97150\n",
      "Route for vehicle 0:\n",
      " 2 load (1) ->  5 load (2) ->  8 load (3) -> 0\n",
      "Distance of the route: 936m\n",
      "\n",
      "Route for vehicle 1:\n",
      " 13 load (8) ->  11 load (12) ->  7 load (20) -> 0\n",
      "Distance of the route: 822m\n",
      "\n",
      "Route for vehicle 2:\n",
      " 3 load (2) ->  4 load (6) ->  1 load (7) ->  6 load (9) -> 0\n",
      "Distance of the route: 856m\n",
      "\n",
      "Route for vehicle 3:\n",
      " 12 load (8) ->  9 load (10) ->  10 load (14) -> 0\n",
      "Distance of the route: 936m\n",
      "\n"
     ]
    },
    {
     "data": {
      "image/png": "[encoded data removed]",
      "text/plain": [
       "<Figure size 432x288 with 1 Axes>"
      ]
     },
     "metadata": {
      "needs_background": "light"
     },
     "output_type": "display_data"
    },
    {
     "name": "stdout",
     "output_type": "stream",
     "text": [
      "Maximum of the route distances: 936m\n"
     ]
    }
   ],
   "source": [
    "from ortools.constraint_solver import routing_enums_pb2, pywrapcp\n",
    "\n",
    "def main():\n",
    "    \"\"\"Entry point of the program.\"\"\"\n",
    "    # Instantiate the data problem.\n",
    "    data = create_data_model()\n",
    "\n",
    "    # Create the routing index manager.\n",
    "    # argument: (num of total locations including depot(출발지, 종점), num of vehicles, node of depot)\n",
    "    # geek -> 상점 수, 드라이버 수, hub의 node\n",
    "    manager = pywrapcp.RoutingIndexManager(len(data['distance_matrix']),\n",
    "                                           data['num_vehicles'], data['depot'])\n",
    "\n",
    "    # Create Routing Model.\n",
    "    routing = pywrapcp.RoutingModel(manager)\n",
    "\n",
    "\n",
    "    # Create and register a transit callback.\n",
    "    # geek -> 실제 상점 간 거리 (교통 상황 반영되어야 함.)\n",
    "    # geek -> 각 node에서 적재하는 데 걸리는 시간 보정 필요\n",
    "    def distance_callback(from_index, to_index):\n",
    "        \"\"\"Returns the distance between the two nodes.\"\"\"\n",
    "        # Convert from routing variable Index to distance matrix NodeIndex.\n",
    "        from_node = manager.IndexToNode(from_index)\n",
    "        to_node = manager.IndexToNode(to_index)\n",
    "        return data['distance_matrix'][from_node][to_node]\n",
    "         # + data['service_time'][to_node]\n",
    "\n",
    "    transit_callback_index = routing.RegisterTransitCallback(distance_callback)\n",
    "\n",
    "    # Define cost of each arc.\n",
    "    routing.SetArcCostEvaluatorOfAllVehicles(transit_callback_index)\n",
    "\n",
    "    # Add Distance constraint.\n",
    "    dimension_name = 'Distance'\n",
    "    routing.AddDimension(\n",
    "        transit_callback_index,\n",
    "        0,  # no slack\n",
    "        3000,  # vehicle maximum travel distance -> geek: max time per vehicle로 변경\n",
    "        True,  # start cumul to zero -> geek: Don't force start cumul to zero.??\n",
    "        dimension_name)\n",
    "    distance_dimension = routing.GetDimensionOrDie(dimension_name)\n",
    "    distance_dimension.SetGlobalSpanCostCoefficient(100)\n",
    "\n",
    "    # Add Order constraint.\n",
    "    def order_callback(from_index):\n",
    "        \"\"\"Returns the num of orders of the node.\"\"\"\n",
    "        # Convert from routing variable Index to demands NodeIndex.\n",
    "        from_node = manager.IndexToNode(from_index)\n",
    "        return data['orders'][from_node]\n",
    "\n",
    "    order_callback_index = routing.RegisterUnaryTransitCallback(\n",
    "        order_callback)\n",
    "\n",
    "    routing.AddDimensionWithVehicleCapacity(\n",
    "        order_callback_index,\n",
    "        0,  # null capacity slack\n",
    "        data['vehicle_capacities'],  # vehicle maximum capacities\n",
    "        True,  # start cumul to zero\n",
    "        'Capacity')\n",
    "\n",
    "    # routing.AddWeightedVariableTargetToFinalizer()\n",
    "    # routing.AddWeightedVariableMaximizedByFinalizer()\n",
    "    # routing.AddWeightedVariableMinimizedByFinalizer()\n",
    "\n",
    "    # Setting first solution heuristic.\n",
    "    search_parameters = pywrapcp.DefaultRoutingSearchParameters()\n",
    "    search_parameters.first_solution_strategy = (\n",
    "        routing_enums_pb2.FirstSolutionStrategy.PATH_CHEAPEST_ARC)\n",
    "\n",
    "    # search_parameters.local_search_metaheuristic = (\n",
    "    #     routing_enums_pb2.LocalSearchMetaheuristic.GUIDED_LOCAL_SEARCH)\n",
    "    # search_parameters.time_limit.FromSeconds(1)\n",
    "\n",
    "    # Solve the problem.\n",
    "    solution = routing.SolveWithParameters(search_parameters)\n",
    "\n",
    "    # Print solution on console.\n",
    "    if solution:\n",
    "        print_solution(data, manager, routing, solution)\n",
    "    else:\n",
    "        print('No solution found !')\n",
    "\n",
    "main()"
   ]
  }
 ],
 "metadata": {
  "kernelspec": {
   "display_name": "Python 3.7.3 ('venv': venv)",
   "language": "python",
   "name": "python3"
  },
  "language_info": {
   "codemirror_mode": {
    "name": "ipython",
    "version": 3
   },
   "file_extension": ".py",
   "mimetype": "text/x-python",
   "name": "python",
   "nbconvert_exporter": "python",
   "pygments_lexer": "ipython3",
   "version": "3.7.3"
  },
  "orig_nbformat": 4,
  "vscode": {
   "interpreter": {
    "hash": "0498266d54591088585a3fb3e9a852c38da7ac9d858e40a60d9fa3b9d699638f"
   }
  }
 },
 "nbformat": 4,
 "nbformat_minor": 2
}
